{
 "cells": [
  {
   "cell_type": "code",
   "execution_count": 3,
   "id": "f4341a95-c961-4628-be2e-d887bceae32c",
   "metadata": {},
   "outputs": [],
   "source": [
    "import pandas as pd \n",
    "import requests\n",
    "from zipfile import ZipFile, BadZipFile\n",
    "from io import BytesIO\n",
    "from datetime import datetime"
   ]
  },
  {
   "cell_type": "code",
   "execution_count": 2,
   "id": "182c3b9d-3312-4150-8b63-b1ea28cc07de",
   "metadata": {},
   "outputs": [
    {
     "ename": "KeyboardInterrupt",
     "evalue": "Interrupted by user",
     "output_type": "error",
     "traceback": [
      "\u001b[1;31m---------------------------------------------------------------------------\u001b[0m",
      "\u001b[1;31mKeyboardInterrupt\u001b[0m                         Traceback (most recent call last)",
      "Cell \u001b[1;32mIn[2], line 2\u001b[0m\n\u001b[0;32m      1\u001b[0m \u001b[38;5;66;03m# User inputs\u001b[39;00m\n\u001b[1;32m----> 2\u001b[0m queryname \u001b[38;5;241m=\u001b[39m \u001b[38;5;28minput\u001b[39m(\u001b[38;5;124m'\u001b[39m\u001b[38;5;124mWhat are you looking for? \u001b[39m\u001b[38;5;124m'\u001b[39m) \u001b[38;5;66;03m# how to make a dropdown later?\u001b[39;00m\n\u001b[0;32m      3\u001b[0m \u001b[38;5;28;01mif\u001b[39;00m queryname \u001b[38;5;241m==\u001b[39m \u001b[38;5;124m'\u001b[39m\u001b[38;5;124moption 1\u001b[39m\u001b[38;5;124m'\u001b[39m:\n\u001b[0;32m      4\u001b[0m     queryname \u001b[38;5;241m=\u001b[39m \u001b[38;5;124m'\u001b[39m\u001b[38;5;124mcode\u001b[39m\u001b[38;5;124m'\u001b[39m \u001b[38;5;66;03m# repeat as many times as needed to fix codes after input\u001b[39;00m\n",
      "File \u001b[1;32m~\\anaconda3\\Lib\\site-packages\\ipykernel\\kernelbase.py:1262\u001b[0m, in \u001b[0;36mKernel.raw_input\u001b[1;34m(self, prompt)\u001b[0m\n\u001b[0;32m   1260\u001b[0m     msg \u001b[38;5;241m=\u001b[39m \u001b[38;5;124m\"\u001b[39m\u001b[38;5;124mraw_input was called, but this frontend does not support input requests.\u001b[39m\u001b[38;5;124m\"\u001b[39m\n\u001b[0;32m   1261\u001b[0m     \u001b[38;5;28;01mraise\u001b[39;00m StdinNotImplementedError(msg)\n\u001b[1;32m-> 1262\u001b[0m \u001b[38;5;28;01mreturn\u001b[39;00m \u001b[38;5;28mself\u001b[39m\u001b[38;5;241m.\u001b[39m_input_request(\n\u001b[0;32m   1263\u001b[0m     \u001b[38;5;28mstr\u001b[39m(prompt),\n\u001b[0;32m   1264\u001b[0m     \u001b[38;5;28mself\u001b[39m\u001b[38;5;241m.\u001b[39m_parent_ident[\u001b[38;5;124m\"\u001b[39m\u001b[38;5;124mshell\u001b[39m\u001b[38;5;124m\"\u001b[39m],\n\u001b[0;32m   1265\u001b[0m     \u001b[38;5;28mself\u001b[39m\u001b[38;5;241m.\u001b[39mget_parent(\u001b[38;5;124m\"\u001b[39m\u001b[38;5;124mshell\u001b[39m\u001b[38;5;124m\"\u001b[39m),\n\u001b[0;32m   1266\u001b[0m     password\u001b[38;5;241m=\u001b[39m\u001b[38;5;28;01mFalse\u001b[39;00m,\n\u001b[0;32m   1267\u001b[0m )\n",
      "File \u001b[1;32m~\\anaconda3\\Lib\\site-packages\\ipykernel\\kernelbase.py:1305\u001b[0m, in \u001b[0;36mKernel._input_request\u001b[1;34m(self, prompt, ident, parent, password)\u001b[0m\n\u001b[0;32m   1302\u001b[0m \u001b[38;5;28;01mexcept\u001b[39;00m \u001b[38;5;167;01mKeyboardInterrupt\u001b[39;00m:\n\u001b[0;32m   1303\u001b[0m     \u001b[38;5;66;03m# re-raise KeyboardInterrupt, to truncate traceback\u001b[39;00m\n\u001b[0;32m   1304\u001b[0m     msg \u001b[38;5;241m=\u001b[39m \u001b[38;5;124m\"\u001b[39m\u001b[38;5;124mInterrupted by user\u001b[39m\u001b[38;5;124m\"\u001b[39m\n\u001b[1;32m-> 1305\u001b[0m     \u001b[38;5;28;01mraise\u001b[39;00m \u001b[38;5;167;01mKeyboardInterrupt\u001b[39;00m(msg) \u001b[38;5;28;01mfrom\u001b[39;00m \u001b[38;5;28;01mNone\u001b[39;00m\n\u001b[0;32m   1306\u001b[0m \u001b[38;5;28;01mexcept\u001b[39;00m \u001b[38;5;167;01mException\u001b[39;00m:\n\u001b[0;32m   1307\u001b[0m     \u001b[38;5;28mself\u001b[39m\u001b[38;5;241m.\u001b[39mlog\u001b[38;5;241m.\u001b[39mwarning(\u001b[38;5;124m\"\u001b[39m\u001b[38;5;124mInvalid Message:\u001b[39m\u001b[38;5;124m\"\u001b[39m, exc_info\u001b[38;5;241m=\u001b[39m\u001b[38;5;28;01mTrue\u001b[39;00m)\n",
      "\u001b[1;31mKeyboardInterrupt\u001b[0m: Interrupted by user"
     ]
    }
   ],
   "source": [
    "# # User inputs\n",
    "# queryname = input('What are you looking for? ') # how to make a dropdown later?\n",
    "# if queryname == 'option 1':\n",
    "#     queryname = 'code' # repeat as many times as needed to fix codes after input\n",
    "\n",
    "# startdate = input('Enter a startdate (MM/DD/YYYY): ')\n",
    "# try:\n",
    "#     date_obj = datetime.strptime(startdate, '%m/%d/%Y')\n",
    "#     print('correct date format. Do you want to start at a specific time? ') # add in time settings later\n",
    "# except ValueError:\n",
    "#     print('invalid date format. Plase use MM/DD/YYYY') # create a loop probs\n",
    "\n",
    "# enddate = input('Enter a startdate (MM/DD/YYYY): ')\n",
    "# try:\n",
    "#     date_obj = datetime.strptime(enddate, '%m/%d/%Y')\n",
    "#     print('correct date format. Do you want to start at a specific time? ') # add in time settings later\n",
    "# except ValueError:\n",
    "#     print('invalid date format. Plase use MM/DD/YYYY')\n",
    "\n",
    "# market_run_id = input('Day Ahead Market or Real Time? (DAM or RTM): ') # create a loop probs\n",
    "# if market_run_id == 'RTM':\n",
    "#     market_run_id = 'actual rtm code' # fix this later\n",
    "\n",
    "# node = input('OPTIONAL: Specify a node. Leave blank for all nodes: ')\n",
    "# if node == '':\n",
    "#     node = 'ALL_APNODES'"
   ]
  },
  {
   "cell_type": "markdown",
   "id": "ee8671fa-fb3f-4040-ad23-a7329da95d65",
   "metadata": {},
   "source": [
    "Currently not going to run the cell above because it isn't done, and it needs a lot more code. It is a holding spot for eventual user interaction."
   ]
  },
  {
   "cell_type": "code",
   "execution_count": null,
   "id": "917b9b29-2f26-4d84-bc4e-687a02d83c32",
   "metadata": {},
   "outputs": [],
   "source": [
    "# setting params\n",
    "base_url = \"http://oasis.caiso.com/oasisapi/SingleZip\"\n",
    "\n",
    "# Define your query parameters as a dictionary\n",
    "params = {\n",
    "    \"resultformat\": \"6\", # should always be this- creates a CSV\n",
    "    \"queryname\": \"PRC_LMP\", # determines what kind of data pull we want\n",
    "    \"startdatetime\": \"20250101T07:00-0000\",\n",
    "    \"enddatetime\": \"20250101T08:00-0000\",\n",
    "    \"market_run_id\": \"DAM\",\n",
    "    \"version\": \"1\",\n",
    "    \"grp_type\": \"ALL_APNODES\"  # Optional parameter (can vary by query) does it switch to node if I include one?\n",
    "}"
   ]
  },
  {
   "cell_type": "code",
   "execution_count": null,
   "id": "7f6271b3-2610-44bd-a2ce-830dfa6607de",
   "metadata": {},
   "outputs": [],
   "source": [
    "# calling AP\n",
    "try: # using this for now for error handling\n",
    "    response = requests.get(base_url, params=params)\n",
    "    with ZipFile(BytesIO(response.content)) as z:\n",
    "        for filename in z.namelist():\n",
    "            with z.open(filename) as f:\n",
    "                df = pd.read_csv(f)\n",
    "                df.to_csv('test2.csv')\n",
    "                # print(df.info())\n",
    "                print(df.columns)\n",
    "                # print(df['LMP_TYPE'].value_counts())\n",
    "                # print(df['XML_DATA_ITEM'].value_counts)\n",
    "except BadZipFile:\n",
    "    print('Response is not a ZIP')\n",
    "    print(response.content.decode(errors='replace'))\n"
   ]
  }
 ],
 "metadata": {
  "kernelspec": {
   "display_name": "Python 3 (ipykernel)",
   "language": "python",
   "name": "python3"
  },
  "language_info": {
   "codemirror_mode": {
    "name": "ipython",
    "version": 3
   },
   "file_extension": ".py",
   "mimetype": "text/x-python",
   "name": "python",
   "nbconvert_exporter": "python",
   "pygments_lexer": "ipython3",
   "version": "3.12.7"
  }
 },
 "nbformat": 4,
 "nbformat_minor": 5
}
