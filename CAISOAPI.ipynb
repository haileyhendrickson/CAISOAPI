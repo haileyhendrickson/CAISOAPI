{
 "cells": [
  {
   "cell_type": "code",
   "execution_count": 37,
   "id": "f4341a95-c961-4628-be2e-d887bceae32c",
   "metadata": {},
   "outputs": [],
   "source": [
    "import pandas as pd \n",
    "import requests\n",
    "from zipfile import ZipFile, BadZipFile\n",
    "from io import BytesIO\n",
    "from datetime import datetime"
   ]
  },
  {
   "cell_type": "code",
   "execution_count": 38,
   "id": "182c3b9d-3312-4150-8b63-b1ea28cc07de",
   "metadata": {},
   "outputs": [],
   "source": [
    "# # User inputs\n",
    "# queryname = input('What are you looking for? ') # how to make a dropdown later?\n",
    "# if queryname == 'option 1':\n",
    "#     queryname = 'code' # repeat as many times as needed to fix codes after input\n",
    "\n",
    "# startdate = input('Enter a startdate (MM/DD/YYYY): ')\n",
    "# try:\n",
    "#     date_obj = datetime.strptime(startdate, '%m/%d/%Y')\n",
    "#     print('correct date format. Do you want to start at a specific time? ') # add in time settings later\n",
    "# except ValueError:\n",
    "#     print('invalid date format. Plase use MM/DD/YYYY') # create a loop probs\n",
    "\n",
    "# enddate = input('Enter a startdate (MM/DD/YYYY): ')\n",
    "# try:\n",
    "#     date_obj = datetime.strptime(enddate, '%m/%d/%Y')\n",
    "#     print('correct date format. Do you want to start at a specific time? ') # add in time settings later\n",
    "# except ValueError:\n",
    "#     print('invalid date format. Plase use MM/DD/YYYY')\n",
    "\n",
    "# market_run_id = input('Day Ahead Market or Real Time? (DAM or RTM): ') # create a loop probs\n",
    "# if market_run_id == 'RTM':\n",
    "#     market_run_id = 'actual rtm code' # fix this later\n",
    "\n",
    "# node = input('OPTIONAL: Specify a node. Separate multiple nodes with a comma. Leave blank for all nodes: ')\n",
    "# if node == '': # means they want all nodes\n",
    "#     node = 'ALL_APNODES' # what you put in to query all nodes\n",
    "# if node != '':\n",
    "#     node = node.replace(' ', '') # removing any spaces\n",
    "#     # they have specified a node, but then I have to run the parameters differently. maybe I can put the parameters under this selection thing. Node will be last selection"
   ]
  },
  {
   "cell_type": "markdown",
   "id": "ee8671fa-fb3f-4040-ad23-a7329da95d65",
   "metadata": {},
   "source": [
    "Currently not going to run the cell above because it isn't done, and it needs a lot more code. It is a holding spot for eventual user interaction."
   ]
  },
  {
   "cell_type": "code",
   "execution_count": 39,
   "id": "917b9b29-2f26-4d84-bc4e-687a02d83c32",
   "metadata": {},
   "outputs": [],
   "source": [
    "# setting parameters\n",
    "base_url = \"http://oasis.caiso.com/oasisapi/SingleZip\"\n",
    "\n",
    "# Define your query parameters as a dictionary\n",
    "params = {\n",
    "    \"resultformat\": \"6\", # should always be this- creates a CSV\n",
    "    \"queryname\": \"PRC_LMP\", # determines what kind of data pull we want\n",
    "    \"startdatetime\": \"20250501T07:00-0000\",\n",
    "    \"enddatetime\": \"20250502T07:00-0000\",\n",
    "    \"market_run_id\": \"DAM\",\n",
    "    \"version\": \"1\", # version 1 is the oldest and the safest I think\n",
    "    # \"grp_type\": \"\", # Optional parameter (can vary by query) does it switch to node if I include one?\n",
    "    \"node\": \"0096WD_7_N001,10TH_STW_1_1LNODE\"\n",
    "}"
   ]
  },
  {
   "cell_type": "markdown",
   "id": "37eede28-3c51-413b-9df6-635eb0a9ca03",
   "metadata": {},
   "source": [
    "can't have node and grouptype in the same parameter- it breaks it. one or the other is okay"
   ]
  },
  {
   "cell_type": "markdown",
   "id": "e5df9267-a6c0-46b3-928d-e85e0fa3ec4f",
   "metadata": {},
   "source": [
    "Query from the website: \n",
    "https://oasis.caiso.com/oasisapi/SingleZip?\n",
    "resultformat=6&\n",
    "queryname=PRC_LMP&\n",
    "version=12\n",
    "&startdatetime=20250501T07:00-0000&\n",
    "enddatetime=20250502T07:00-0000&\n",
    "market_run_id=DAM&\n",
    "node=0096WD_7_N001,10TH_STW_1_1LNODE # two nodes!! separate with a comma"
   ]
  },
  {
   "cell_type": "code",
   "execution_count": 40,
   "id": "7f6271b3-2610-44bd-a2ce-830dfa6607de",
   "metadata": {},
   "outputs": [
    {
     "name": "stdout",
     "output_type": "stream",
     "text": [
      "Index(['INTERVALSTARTTIME_GMT', 'INTERVALENDTIME_GMT', 'OPR_DT', 'OPR_HR',\n",
      "       'OPR_INTERVAL', 'NODE_ID_XML', 'NODE_ID', 'NODE', 'MARKET_RUN_ID',\n",
      "       'LMP_TYPE', 'XML_DATA_ITEM', 'PNODE_RESMRID', 'GRP_TYPE', 'POS', 'MW',\n",
      "       'GROUP'],\n",
      "      dtype='object')\n"
     ]
    }
   ],
   "source": [
    "# calling AP\n",
    "try: # using this for now for error handling\n",
    "    response = requests.get(base_url, params=params)\n",
    "    with ZipFile(BytesIO(response.content)) as z:\n",
    "        for filename in z.namelist():\n",
    "            with z.open(filename) as f:\n",
    "                df = pd.read_csv(f)\n",
    "                df.to_csv('test2.csv')\n",
    "                # print(df.info())\n",
    "                print(df.columns)\n",
    "                # print(df['LMP_TYPE'].value_counts())\n",
    "                # print(df['XML_DATA_ITEM'].value_counts)\n",
    "except BadZipFile:\n",
    "    print('Response is not a ZIP')\n",
    "    print(response.content.decode(errors='replace'))\n"
   ]
  },
  {
   "cell_type": "code",
   "execution_count": null,
   "id": "0eb724e4-21dc-4f3f-bc0c-5e5ee0c1e6ce",
   "metadata": {},
   "outputs": [],
   "source": []
  }
 ],
 "metadata": {
  "kernelspec": {
   "display_name": "Python 3 (ipykernel)",
   "language": "python",
   "name": "python3"
  },
  "language_info": {
   "codemirror_mode": {
    "name": "ipython",
    "version": 3
   },
   "file_extension": ".py",
   "mimetype": "text/x-python",
   "name": "python",
   "nbconvert_exporter": "python",
   "pygments_lexer": "ipython3",
   "version": "3.12.7"
  }
 },
 "nbformat": 4,
 "nbformat_minor": 5
}
